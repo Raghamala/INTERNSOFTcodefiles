{
  "nbformat": 4,
  "nbformat_minor": 0,
  "metadata": {
    "colab": {
      "provenance": [],
      "authorship_tag": "ABX9TyOoAFiy0S6uF6acmp0xZwTq",
      "include_colab_link": true
    },
    "kernelspec": {
      "name": "python3",
      "display_name": "Python 3"
    },
    "language_info": {
      "name": "python"
    }
  },
  "cells": [
    {
      "cell_type": "markdown",
      "metadata": {
        "id": "view-in-github",
        "colab_type": "text"
      },
      "source": [
        "<a href=\"https://colab.research.google.com/github/Raghamala/INTERNSOFTcodefiles/blob/main/Day4codefile.ipynb\" target=\"_parent\"><img src=\"https://colab.research.google.com/assets/colab-badge.svg\" alt=\"Open In Colab\"/></a>"
      ]
    },
    {
      "cell_type": "code",
      "execution_count": 2,
      "metadata": {
        "colab": {
          "base_uri": "https://localhost:8080/"
        },
        "id": "hmYD-3sSF0A9",
        "outputId": "54e0d37e-6f68-4e91-936b-892e38aba110"
      },
      "outputs": [
        {
          "output_type": "stream",
          "name": "stdout",
          "text": [
            "<__main__.Person object at 0x7ff949b4aad0>\n",
            "Alec Baldwin was born in 1958.\n"
          ]
        }
      ],
      "source": [
        "class Person:\n",
        "  pass\n",
        "\n",
        "john_doe = Person()\n",
        "john_doe.name = \"Alec\"\n",
        "john_doe.surname = \"Baldwin\"\n",
        "john_doe.year_of_birth = 1958\n",
        "\n",
        "print(john_doe)\n",
        "print(\"%s %s was born in %d.\"%(john_doe.name,john_doe.surname, john_doe.year_of_birth))"
      ]
    },
    {
      "cell_type": "code",
      "source": [
        "class Person:\n",
        "  def __init__(self, name, surname, year_of_birth):\n",
        "    self.name = name\n",
        "    self.surname = surname\n",
        "    self.year_of_birth = year_of_birth"
      ],
      "metadata": {
        "id": "CsDd7tf6Gf-f"
      },
      "execution_count": 3,
      "outputs": []
    },
    {
      "cell_type": "code",
      "source": [
        "alec = Person(\"Alec\",\"Baldwin\",1958)\n",
        "print(alec)\n",
        "print(\"%s %s was born in %d\"% (alec.name,alec.surname,alec.year_of_birth))"
      ],
      "metadata": {
        "colab": {
          "base_uri": "https://localhost:8080/"
        },
        "id": "SKscDm1VG_Mj",
        "outputId": "7af4c44d-82a6-4bdb-c3dd-4093395b966f"
      },
      "execution_count": 4,
      "outputs": [
        {
          "output_type": "stream",
          "name": "stdout",
          "text": [
            "<__main__.Person object at 0x7ff917edebf0>\n",
            "Alec Baldwin was born in 1958\n"
          ]
        }
      ]
    },
    {
      "cell_type": "code",
      "source": [
        "class Person:\n",
        "  def __init__(self, name, surname, year_of_birth):\n",
        "    self.name = name\n",
        "    self.surname = surname\n",
        "    self.year_of_birth = year_of_birth\n",
        "\n",
        "    def age(self, current_year):\n",
        "      return current_year - self.year_of_birth\n",
        "\n",
        "  def __str__(self):\n",
        "    return \"%s %s was born in %d .\" % (self.name, self.surname, self.year_of_birth)\n",
        "    alec = Person(\"Alec\", \"Baldwin\", 1958)\n",
        "print(alec)\n",
        ""
      ],
      "metadata": {
        "colab": {
          "base_uri": "https://localhost:8080/"
        },
        "id": "pJfAzIw1HWr6",
        "outputId": "1a136788-a741-4eab-80c9-0089a5092158"
      },
      "execution_count": 12,
      "outputs": [
        {
          "output_type": "stream",
          "name": "stdout",
          "text": [
            "<__main__.Person object at 0x7ff917edebf0>\n"
          ]
        }
      ]
    },
    {
      "cell_type": "code",
      "source": [
        "lambda a,b: a if (a>b) else b"
      ],
      "metadata": {
        "colab": {
          "base_uri": "https://localhost:8080/"
        },
        "id": "vEA2HT_gKfsW",
        "outputId": "91607505-8bf2-4bb9-83c6-237e49cf187a"
      },
      "execution_count": 13,
      "outputs": [
        {
          "output_type": "execute_result",
          "data": {
            "text/plain": [
              "<function __main__.<lambda>(a, b)>"
            ]
          },
          "metadata": {},
          "execution_count": 13
        }
      ]
    },
    {
      "cell_type": "code",
      "source": [
        "class Student(Person):\n",
        "  def __init__(self, student_id, *args, **kwargs):\n",
        "    super(Student, self).__init__(*args, **kwargs)\n",
        "    self._student_id = student_id\n",
        "\n",
        "charlie = Student(1, 'Charlie', 'Brown', 2006)\n",
        "print(charlie)\n",
        "print(type(charlie))\n",
        "print(isinstance(charlie, Person))\n",
        "print(isinstance(charlie, object))"
      ],
      "metadata": {
        "colab": {
          "base_uri": "https://localhost:8080/"
        },
        "id": "zZH8Ac24McDe",
        "outputId": "dca033d5-0d74-48c0-bc11-b8769a8601d5"
      },
      "execution_count": 14,
      "outputs": [
        {
          "output_type": "stream",
          "name": "stdout",
          "text": [
            "Charlie Brown was born in 2006 .\n",
            "<class '__main__.Student'>\n",
            "True\n",
            "True\n"
          ]
        }
      ]
    },
    {
      "cell_type": "code",
      "source": [
        "class Student(Person):\n",
        "  def __init__(self, student_id, *args, **kwargs):\n",
        "    super(Student, self).__init__(*args, **kwargs)\n",
        "    self._student_id = student_id\n",
        "\n",
        "  def __str__(self):\n",
        "    return super(Student, self).__str__() + \"And had ID: %d\" %self._student_id\n",
        "\n",
        "charlie = Student(1, 'charlie', 'Brown', 2006)\n",
        "print(charlie)"
      ],
      "metadata": {
        "colab": {
          "base_uri": "https://localhost:8080/"
        },
        "id": "dSwzuFOTNOcO",
        "outputId": "dd58c6b8-d94d-41e1-80c3-a257be2ea204"
      },
      "execution_count": 16,
      "outputs": [
        {
          "output_type": "stream",
          "name": "stdout",
          "text": [
            "charlie Brown was born in 2006 .And had ID: 1\n"
          ]
        }
      ]
    },
    {
      "cell_type": "code",
      "source": [
        "def summer(a,b):\n",
        "  return a+b\n",
        "print(summer(1,1))\n",
        "print(summer([\"a\",\"b\",\"c\"],[\"d\",\"e\"]))\n",
        "print(summer(\"abra\", \"cadabra\"))"
      ],
      "metadata": {
        "colab": {
          "base_uri": "https://localhost:8080/"
        },
        "id": "HRGIm7G1OBAq",
        "outputId": "ff387e53-924b-40f1-cf11-47e62eec2481"
      },
      "execution_count": 17,
      "outputs": [
        {
          "output_type": "stream",
          "name": "stdout",
          "text": [
            "2\n",
            "['a', 'b', 'c', 'd', 'e']\n",
            "abracadabra\n"
          ]
        }
      ]
    },
    {
      "cell_type": "code",
      "source": [
        "%%writefile test.txt\n",
        "Hello, this is a quick test file"
      ],
      "metadata": {
        "colab": {
          "base_uri": "https://localhost:8080/"
        },
        "id": "e5FBQbCeOe5o",
        "outputId": "ebb6e7a3-a9d0-4baa-e35b-0dcb85121587"
      },
      "execution_count": 18,
      "outputs": [
        {
          "output_type": "stream",
          "name": "stdout",
          "text": [
            "Writing test.txt\n"
          ]
        }
      ]
    },
    {
      "cell_type": "code",
      "source": [
        "my_file = open('test.txt')"
      ],
      "metadata": {
        "id": "CaYYNvdhOngq"
      },
      "execution_count": 19,
      "outputs": []
    },
    {
      "cell_type": "code",
      "source": [
        "my_file.read()"
      ],
      "metadata": {
        "colab": {
          "base_uri": "https://localhost:8080/",
          "height": 35
        },
        "id": "4WaQDqz_Os0p",
        "outputId": "f77da23e-8abc-45a5-cf8e-f1668776f89f"
      },
      "execution_count": 20,
      "outputs": [
        {
          "output_type": "execute_result",
          "data": {
            "text/plain": [
              "'Hello, this is a quick test file\\n'"
            ],
            "application/vnd.google.colaboratory.intrinsic+json": {
              "type": "string"
            }
          },
          "metadata": {},
          "execution_count": 20
        }
      ]
    },
    {
      "cell_type": "code",
      "source": [
        "my_file.seek(0)"
      ],
      "metadata": {
        "colab": {
          "base_uri": "https://localhost:8080/"
        },
        "id": "SvFTWo0JOu3D",
        "outputId": "13d2550b-66b2-475d-baf3-3f5c28619c7d"
      },
      "execution_count": 21,
      "outputs": [
        {
          "output_type": "execute_result",
          "data": {
            "text/plain": [
              "0"
            ]
          },
          "metadata": {},
          "execution_count": 21
        }
      ]
    },
    {
      "cell_type": "code",
      "source": [
        "my_file.readlines()"
      ],
      "metadata": {
        "colab": {
          "base_uri": "https://localhost:8080/"
        },
        "id": "xNJ26sL5O5uD",
        "outputId": "ec21210b-814a-42f8-c3bd-465f26b11033"
      },
      "execution_count": 22,
      "outputs": [
        {
          "output_type": "execute_result",
          "data": {
            "text/plain": [
              "['Hello, this is a quick test file\\n']"
            ]
          },
          "metadata": {},
          "execution_count": 22
        }
      ]
    },
    {
      "cell_type": "code",
      "source": [
        "my_file = open('test.txt', 'w+')"
      ],
      "metadata": {
        "id": "lL-tJG_ZPFYQ"
      },
      "execution_count": 23,
      "outputs": []
    },
    {
      "cell_type": "code",
      "source": [
        "my_file.write('This is a new line')"
      ],
      "metadata": {
        "colab": {
          "base_uri": "https://localhost:8080/"
        },
        "id": "kSjk0t8BPJkQ",
        "outputId": "b41805e1-eeac-4ce3-ba80-860ac3987358"
      },
      "execution_count": 25,
      "outputs": [
        {
          "output_type": "execute_result",
          "data": {
            "text/plain": [
              "18"
            ]
          },
          "metadata": {},
          "execution_count": 25
        }
      ]
    },
    {
      "cell_type": "code",
      "source": [
        "my_file.seek(0)"
      ],
      "metadata": {
        "colab": {
          "base_uri": "https://localhost:8080/"
        },
        "id": "-5EUyP5xPQhL",
        "outputId": "2a93f873-c049-4c9e-f91c-80dd15fa094e"
      },
      "execution_count": 26,
      "outputs": [
        {
          "output_type": "execute_result",
          "data": {
            "text/plain": [
              "0"
            ]
          },
          "metadata": {},
          "execution_count": 26
        }
      ]
    },
    {
      "cell_type": "code",
      "source": [
        "my_file.read()"
      ],
      "metadata": {
        "colab": {
          "base_uri": "https://localhost:8080/",
          "height": 35
        },
        "id": "YHj39pbJPUJW",
        "outputId": "eb112205-dcf9-4ec9-e603-cf6b7855a363"
      },
      "execution_count": 27,
      "outputs": [
        {
          "output_type": "execute_result",
          "data": {
            "text/plain": [
              "'This is a new line'"
            ],
            "application/vnd.google.colaboratory.intrinsic+json": {
              "type": "string"
            }
          },
          "metadata": {},
          "execution_count": 27
        }
      ]
    },
    {
      "cell_type": "code",
      "source": [
        "%%writefile test.txt\n",
        "First line\n",
        "Second line"
      ],
      "metadata": {
        "colab": {
          "base_uri": "https://localhost:8080/"
        },
        "id": "MOxATc43PWAo",
        "outputId": "f7f339c5-e069-474c-a058-53ac042ad477"
      },
      "execution_count": 34,
      "outputs": [
        {
          "output_type": "stream",
          "name": "stdout",
          "text": [
            "Overwriting test.txt\n"
          ]
        }
      ]
    },
    {
      "cell_type": "code",
      "source": [
        "for line in open('test.txt'):\n",
        "  print(line)"
      ],
      "metadata": {
        "colab": {
          "base_uri": "https://localhost:8080/"
        },
        "id": "Akwd_WwJPh1W",
        "outputId": "34d97179-43c2-48d6-93f2-bef1e66a38a3"
      },
      "execution_count": 35,
      "outputs": [
        {
          "output_type": "stream",
          "name": "stdout",
          "text": [
            "First line \n",
            "\n",
            "Second line\n",
            "\n"
          ]
        }
      ]
    },
    {
      "cell_type": "code",
      "source": [
        "#pertaining to the first point above\n",
        "for asdf in open('test.txt'):\n",
        "  print(asdf)"
      ],
      "metadata": {
        "colab": {
          "base_uri": "https://localhost:8080/"
        },
        "id": "8tSKtO41Pp8y",
        "outputId": "0a9be09c-a05c-4411-879a-fc7bf72a4102"
      },
      "execution_count": 36,
      "outputs": [
        {
          "output_type": "stream",
          "name": "stdout",
          "text": [
            "First line \n",
            "\n",
            "Second line\n",
            "\n"
          ]
        }
      ]
    },
    {
      "cell_type": "code",
      "source": [
        "from io import StringIO"
      ],
      "metadata": {
        "id": "elzAX5ZLQB_H"
      },
      "execution_count": 37,
      "outputs": []
    },
    {
      "cell_type": "code",
      "source": [
        "message = 'This is just a normal string.'"
      ],
      "metadata": {
        "id": "uQcfMOTEQGpX"
      },
      "execution_count": 38,
      "outputs": []
    },
    {
      "cell_type": "code",
      "source": [
        "f= StringIO(message)"
      ],
      "metadata": {
        "id": "s6oRf2HSQK02"
      },
      "execution_count": 39,
      "outputs": []
    },
    {
      "cell_type": "code",
      "source": [
        "f.read()"
      ],
      "metadata": {
        "colab": {
          "base_uri": "https://localhost:8080/",
          "height": 35
        },
        "id": "OtgqZunNQNhU",
        "outputId": "4a46d6e3-2cca-4b2a-a9e7-2e061205ffdb"
      },
      "execution_count": 40,
      "outputs": [
        {
          "output_type": "execute_result",
          "data": {
            "text/plain": [
              "'This is just a normal string.'"
            ],
            "application/vnd.google.colaboratory.intrinsic+json": {
              "type": "string"
            }
          },
          "metadata": {},
          "execution_count": 40
        }
      ]
    },
    {
      "cell_type": "code",
      "source": [
        "f.write('Second line written to file like object')"
      ],
      "metadata": {
        "colab": {
          "base_uri": "https://localhost:8080/"
        },
        "id": "PtcqTd8dQOaU",
        "outputId": "54326e43-45d4-4be5-9d53-1c82a7785292"
      },
      "execution_count": 42,
      "outputs": [
        {
          "output_type": "execute_result",
          "data": {
            "text/plain": [
              "39"
            ]
          },
          "metadata": {},
          "execution_count": 42
        }
      ]
    },
    {
      "cell_type": "code",
      "source": [
        "f.seek(0)"
      ],
      "metadata": {
        "colab": {
          "base_uri": "https://localhost:8080/"
        },
        "id": "WUwrIxtjQRnd",
        "outputId": "f44f6689-59bb-43ba-a2ef-aef29c808ef8"
      },
      "execution_count": 43,
      "outputs": [
        {
          "output_type": "execute_result",
          "data": {
            "text/plain": [
              "0"
            ]
          },
          "metadata": {},
          "execution_count": 43
        }
      ]
    },
    {
      "cell_type": "code",
      "source": [
        "f.read()"
      ],
      "metadata": {
        "colab": {
          "base_uri": "https://localhost:8080/",
          "height": 35
        },
        "id": "5KCFhv90QbQN",
        "outputId": "f35f8972-c2a2-4fbb-cbe4-50e5e3afa1f8"
      },
      "execution_count": 44,
      "outputs": [
        {
          "output_type": "execute_result",
          "data": {
            "text/plain": [
              "'This is just a normal string.Second line written to file like object'"
            ],
            "application/vnd.google.colaboratory.intrinsic+json": {
              "type": "string"
            }
          },
          "metadata": {},
          "execution_count": 44
        }
      ]
    },
    {
      "cell_type": "code",
      "source": [],
      "metadata": {
        "id": "1XimXKpxQcI-"
      },
      "execution_count": null,
      "outputs": []
    }
  ]
}