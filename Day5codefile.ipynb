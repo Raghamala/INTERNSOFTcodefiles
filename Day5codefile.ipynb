{
  "nbformat": 4,
  "nbformat_minor": 0,
  "metadata": {
    "colab": {
      "provenance": [],
      "authorship_tag": "ABX9TyOqfXk5GCA3/zrfVBUJqYsb",
      "include_colab_link": true
    },
    "kernelspec": {
      "name": "python3",
      "display_name": "Python 3"
    },
    "language_info": {
      "name": "python"
    }
  },
  "cells": [
    {
      "cell_type": "markdown",
      "metadata": {
        "id": "view-in-github",
        "colab_type": "text"
      },
      "source": [
        "<a href=\"https://colab.research.google.com/github/Raghamala/INTERNSOFTcodefiles/blob/main/Day5codefile.ipynb\" target=\"_parent\"><img src=\"https://colab.research.google.com/assets/colab-badge.svg\" alt=\"Open In Colab\"/></a>"
      ]
    },
    {
      "cell_type": "code",
      "execution_count": 1,
      "metadata": {
        "id": "Nh9dti26YxO6"
      },
      "outputs": [],
      "source": [
        "#import the library\n",
        "import math"
      ]
    },
    {
      "cell_type": "code",
      "source": [
        "math.ceil(2.4)"
      ],
      "metadata": {
        "colab": {
          "base_uri": "https://localhost:8080/"
        },
        "id": "qxxONuNgZM7l",
        "outputId": "83668758-f592-428b-ec44-464ca21651e8"
      },
      "execution_count": 2,
      "outputs": [
        {
          "output_type": "execute_result",
          "data": {
            "text/plain": [
              "3"
            ]
          },
          "metadata": {},
          "execution_count": 2
        }
      ]
    },
    {
      "cell_type": "code",
      "source": [
        "print(dir(math))"
      ],
      "metadata": {
        "colab": {
          "base_uri": "https://localhost:8080/"
        },
        "id": "Bpy1R6qAZUbI",
        "outputId": "25a2a660-0153-4344-9846-3156bc483e7a"
      },
      "execution_count": 3,
      "outputs": [
        {
          "output_type": "stream",
          "name": "stdout",
          "text": [
            "['__doc__', '__loader__', '__name__', '__package__', '__spec__', 'acos', 'acosh', 'asin', 'asinh', 'atan', 'atan2', 'atanh', 'ceil', 'comb', 'copysign', 'cos', 'cosh', 'degrees', 'dist', 'e', 'erf', 'erfc', 'exp', 'expm1', 'fabs', 'factorial', 'floor', 'fmod', 'frexp', 'fsum', 'gamma', 'gcd', 'hypot', 'inf', 'isclose', 'isfinite', 'isinf', 'isnan', 'isqrt', 'lcm', 'ldexp', 'lgamma', 'log', 'log10', 'log1p', 'log2', 'modf', 'nan', 'nextafter', 'perm', 'pi', 'pow', 'prod', 'radians', 'remainder', 'sin', 'sinh', 'sqrt', 'tan', 'tanh', 'tau', 'trunc', 'ulp']\n"
          ]
        }
      ]
    },
    {
      "cell_type": "code",
      "source": [
        "help(math.ceil)"
      ],
      "metadata": {
        "colab": {
          "base_uri": "https://localhost:8080/"
        },
        "id": "Ao1zZOXvZWc9",
        "outputId": "071e8e15-bb3d-4958-a857-7bc82351ef03"
      },
      "execution_count": 4,
      "outputs": [
        {
          "output_type": "stream",
          "name": "stdout",
          "text": [
            "Help on built-in function ceil in module math:\n",
            "\n",
            "ceil(x, /)\n",
            "    Return the ceiling of x as an Integral.\n",
            "    \n",
            "    This is the smallest integer >= x.\n",
            "\n"
          ]
        }
      ]
    },
    {
      "cell_type": "code",
      "source": [
        "try:\n",
        "  f = open('testfile','w')\n",
        "  f.write('Test write this')\n",
        "except IOError:\n",
        "  #this will only check for an IOError exception and then execute this print statement\n",
        "  print(\"Error: could not find file or read data\")\n",
        "else:\n",
        "  print(\"Content written successfully\")\n",
        "  f.close()"
      ],
      "metadata": {
        "colab": {
          "base_uri": "https://localhost:8080/"
        },
        "id": "pyrPF1QQZm54",
        "outputId": "34a0cbcc-7904-4e25-d2de-fa1c42b170bd"
      },
      "execution_count": 9,
      "outputs": [
        {
          "output_type": "stream",
          "name": "stdout",
          "text": [
            "Content written successfully\n"
          ]
        }
      ]
    },
    {
      "cell_type": "code",
      "source": [
        "try:\n",
        "  f = open('testfile','r')\n",
        "  f.write('Test write this')\n",
        "except IOError:\n",
        "  #this will only check for an IOError exception and then execute this print statement\n",
        "  print(\"Error: could not find file or read data\")\n",
        "else:\n",
        "  print(\"Content written successfull\")\n",
        "  f.close()\n"
      ],
      "metadata": {
        "colab": {
          "base_uri": "https://localhost:8080/"
        },
        "id": "gkpymCEmZvUY",
        "outputId": "e31639d1-0c48-4d62-cb61-dd8c1c8bd2cb"
      },
      "execution_count": 10,
      "outputs": [
        {
          "output_type": "stream",
          "name": "stdout",
          "text": [
            "Error: could not find file or read data\n"
          ]
        }
      ]
    },
    {
      "cell_type": "code",
      "source": [
        "try:\n",
        "  f = open(\"testfile\", \"w\")\n",
        "  f.write(\"Test write statement\")\n",
        "finally:\n",
        "  print(\"Always execute finally code blocks\")"
      ],
      "metadata": {
        "colab": {
          "base_uri": "https://localhost:8080/"
        },
        "id": "kP10p8NLZ0I8",
        "outputId": "b4f92b56-1390-47ca-8b88-c169ba3171ed"
      },
      "execution_count": 11,
      "outputs": [
        {
          "output_type": "stream",
          "name": "stdout",
          "text": [
            "Always execute finally code blocks\n"
          ]
        }
      ]
    },
    {
      "cell_type": "code",
      "source": [
        "def askint():\n",
        "  try:\n",
        "    val = int(input(\"please enter an integer:\"))\n",
        "  except:\n",
        "    print(\"looks like you did not enter an integer!\")\n",
        "  finally:\n",
        "    print(\"Finally, i exevuted!\")\n",
        "    print(val)"
      ],
      "metadata": {
        "id": "_2fvENHvbpL5"
      },
      "execution_count": 12,
      "outputs": []
    },
    {
      "cell_type": "code",
      "source": [
        "askint()"
      ],
      "metadata": {
        "colab": {
          "base_uri": "https://localhost:8080/"
        },
        "id": "STnP9x3Ib7aq",
        "outputId": "86e24334-655e-427f-96bd-ffae8aae1fdc"
      },
      "execution_count": 13,
      "outputs": [
        {
          "output_type": "stream",
          "name": "stdout",
          "text": [
            "please enter an integer:4\n",
            "Finally, i exevuted!\n",
            "4\n"
          ]
        }
      ]
    },
    {
      "cell_type": "code",
      "source": [
        "askint()"
      ],
      "metadata": {
        "colab": {
          "base_uri": "https://localhost:8080/"
        },
        "id": "JUZINkLxb83m",
        "outputId": "4997b29f-d0f3-41dd-cac0-59c7b8ad53f7"
      },
      "execution_count": 15,
      "outputs": [
        {
          "output_type": "stream",
          "name": "stdout",
          "text": [
            "please enter an integer:7\n",
            "Finally, i exevuted!\n",
            "7\n"
          ]
        }
      ]
    },
    {
      "cell_type": "code",
      "source": [
        "def askint():\n",
        "  try:\n",
        "    val = int(input(\"please enter an integer:\"))\n",
        "  except:\n",
        "    print(\"looks lik you did not enter an integer!\")\n",
        "  finally:\n",
        "    print(\"finally, i executed!\")\n",
        "  print(val)"
      ],
      "metadata": {
        "id": "Rpx2ddl3cAZ6"
      },
      "execution_count": 16,
      "outputs": []
    },
    {
      "cell_type": "code",
      "source": [
        "askint()"
      ],
      "metadata": {
        "colab": {
          "base_uri": "https://localhost:8080/"
        },
        "id": "2ngfwwp-ca4D",
        "outputId": "d3187ef4-4b9f-4208-9554-decb63b9f176"
      },
      "execution_count": 17,
      "outputs": [
        {
          "output_type": "stream",
          "name": "stdout",
          "text": [
            "please enter an integer:78\n",
            "finally, i executed!\n",
            "78\n"
          ]
        }
      ]
    },
    {
      "cell_type": "code",
      "source": [
        "def askint():\n",
        "  while True:\n",
        "    try:\n",
        "      val = int(input(\"please enter an integer:\"))\n",
        "    except:\n",
        "      print(\"Looks like you did not enter an integer!\")\n",
        "      continue\n",
        "    else:\n",
        "      print('yep thats an integer!')\n",
        "      break\n",
        "    finally:\n",
        "      print(\"finally, i executed\")\n",
        "    print(val)"
      ],
      "metadata": {
        "id": "XN8fuJb_ccp0"
      },
      "execution_count": 21,
      "outputs": []
    },
    {
      "cell_type": "code",
      "source": [
        "askint()"
      ],
      "metadata": {
        "colab": {
          "base_uri": "https://localhost:8080/"
        },
        "id": "jZd7hNT9c3br",
        "outputId": "fe23c071-1fd1-4964-f266-b8e66e64488d"
      },
      "execution_count": 22,
      "outputs": [
        {
          "output_type": "stream",
          "name": "stdout",
          "text": [
            "please enter an integer:woo\n",
            "Looks like you did not enter an integer!\n",
            "finally, i executed\n",
            "please enter an integer:kiss\n",
            "Looks like you did not enter an integer!\n",
            "finally, i executed\n",
            "please enter an integer:345\n",
            "yep thats an integer!\n",
            "finally, i executed\n"
          ]
        }
      ]
    },
    {
      "cell_type": "code",
      "source": [
        "import sqlite3\n",
        "#connecting with the database.\n",
        "db = sqlite3.connect(\"my_database1.db\")\n",
        "#drop table if it already exist using execute()method.\n",
        "db.execute(\"drop table if exists grades1\")\n",
        "#create table as per requirement\n",
        "db.execute(\"create table grades1(id int, name text, score int)\")\n",
        "#inserting values inside the created table\n",
        "db.execute(\"insert into grades1(id, name, score) values(101, 'john',99)\")\n",
        "db.execute(\"insert into grades1(id, name, score) values(102, 'gary',90)\")\n",
        "db.execute(\"insert into grades1(id, name, score) values(103, 'james',80)\")\n",
        "db.execute(\"insert into grades1(id, name, score) values(104, 'kris',95)\")"
      ],
      "metadata": {
        "colab": {
          "base_uri": "https://localhost:8080/"
        },
        "id": "917f5Ed9c4XC",
        "outputId": "934fc0c0-40af-4e6a-b299-a7d37f9ac9f3"
      },
      "execution_count": 23,
      "outputs": [
        {
          "output_type": "execute_result",
          "data": {
            "text/plain": [
              "<sqlite3.Cursor at 0x7f7deaacb7c0>"
            ]
          },
          "metadata": {},
          "execution_count": 23
        }
      ]
    },
    {
      "cell_type": "code",
      "source": [
        "db.commit()"
      ],
      "metadata": {
        "id": "uf8ZEAtMeLrk"
      },
      "execution_count": 24,
      "outputs": []
    },
    {
      "cell_type": "code",
      "source": [
        "results = db.execute(\"select * from grades1 order by id\")\n",
        "for row in results:\n",
        "  print(row)\n",
        "print(\"-\"* 60)"
      ],
      "metadata": {
        "colab": {
          "base_uri": "https://localhost:8080/"
        },
        "id": "6jgIrVV-eNNb",
        "outputId": "66280b77-223a-4f19-a9ad-9fbf64ba7fe9"
      },
      "execution_count": 25,
      "outputs": [
        {
          "output_type": "stream",
          "name": "stdout",
          "text": [
            "(101, 'john', 99)\n",
            "(102, 'gary', 90)\n",
            "(103, 'james', 80)\n",
            "(104, 'kris', 95)\n",
            "------------------------------------------------------------\n"
          ]
        }
      ]
    },
    {
      "cell_type": "code",
      "source": [
        "results = db.execute(\"select * from grades1 where name = 'gary' \")\n",
        "for row in results:\n",
        "  print(row)\n",
        "  print(\"-\" * 60)"
      ],
      "metadata": {
        "colab": {
          "base_uri": "https://localhost:8080/"
        },
        "id": "Bmuv8e6EecKj",
        "outputId": "78362225-773b-4e0e-e5cc-9f2508798ea8"
      },
      "execution_count": 26,
      "outputs": [
        {
          "output_type": "stream",
          "name": "stdout",
          "text": [
            "(102, 'gary', 90)\n",
            "------------------------------------------------------------\n"
          ]
        }
      ]
    },
    {
      "cell_type": "code",
      "source": [
        "results = db.execute(\"select * from grades1 where score >= 90\")\n",
        "for row in results:\n",
        "  print(row)\n",
        "  print(\"-\"*60)"
      ],
      "metadata": {
        "colab": {
          "base_uri": "https://localhost:8080/"
        },
        "id": "BGX4yVPserv-",
        "outputId": "a05a9a7e-7e1d-4b3e-9854-27c0cb7ce0a2"
      },
      "execution_count": 27,
      "outputs": [
        {
          "output_type": "stream",
          "name": "stdout",
          "text": [
            "(101, 'john', 99)\n",
            "------------------------------------------------------------\n",
            "(102, 'gary', 90)\n",
            "------------------------------------------------------------\n",
            "(104, 'kris', 95)\n",
            "------------------------------------------------------------\n"
          ]
        }
      ]
    },
    {
      "cell_type": "code",
      "source": [
        "results = db.execute(\"select name, score from grades1 order by score desc\")\n",
        "for row in results:\n",
        "  print(row)\n",
        "  print(\"-\"*60)"
      ],
      "metadata": {
        "colab": {
          "base_uri": "https://localhost:8080/"
        },
        "id": "wsQN08_Re3D2",
        "outputId": "474e161c-2632-4699-a7a1-3215f0f25d16"
      },
      "execution_count": 28,
      "outputs": [
        {
          "output_type": "stream",
          "name": "stdout",
          "text": [
            "('john', 99)\n",
            "------------------------------------------------------------\n",
            "('kris', 95)\n",
            "------------------------------------------------------------\n",
            "('gary', 90)\n",
            "------------------------------------------------------------\n",
            "('james', 80)\n",
            "------------------------------------------------------------\n"
          ]
        }
      ]
    },
    {
      "cell_type": "code",
      "source": [
        "results = db.execute(\"select name, score from grades1 order by score\")\n",
        "for row in results:\n",
        "  print(row)\n",
        "  print(\"-\"*60)"
      ],
      "metadata": {
        "colab": {
          "base_uri": "https://localhost:8080/"
        },
        "id": "37GlMgaIfezH",
        "outputId": "d361d7aa-8506-49f3-8cab-9b7be48737e0"
      },
      "execution_count": 29,
      "outputs": [
        {
          "output_type": "stream",
          "name": "stdout",
          "text": [
            "('james', 80)\n",
            "------------------------------------------------------------\n",
            "('gary', 90)\n",
            "------------------------------------------------------------\n",
            "('kris', 95)\n",
            "------------------------------------------------------------\n",
            "('john', 99)\n",
            "------------------------------------------------------------\n"
          ]
        }
      ]
    },
    {
      "cell_type": "code",
      "source": [
        "results = db.execute(\"select name, score from grades1 order by score\")\n",
        "for row in results:\n",
        "  print(row)"
      ],
      "metadata": {
        "colab": {
          "base_uri": "https://localhost:8080/"
        },
        "id": "RNgiclqvfrfd",
        "outputId": "e0b95260-2f4e-4206-e206-9077f47b9345"
      },
      "execution_count": 31,
      "outputs": [
        {
          "output_type": "stream",
          "name": "stdout",
          "text": [
            "('james', 80)\n",
            "('gary', 90)\n",
            "('kris', 95)\n",
            "('john', 99)\n"
          ]
        }
      ]
    },
    {
      "cell_type": "code",
      "source": [],
      "metadata": {
        "id": "Qri1GcX4fzIV"
      },
      "execution_count": null,
      "outputs": []
    }
  ]
}